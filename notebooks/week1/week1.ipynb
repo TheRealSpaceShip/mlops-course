{
 "cells": [
  {
   "cell_type": "markdown",
   "id": "40102c9a-2354-436e-8390-295a4e23b7d0",
   "metadata": {},
   "source": [
    "# Homework\n",
    "\n",
    "The goal of this homework is to train a simple model for predicting the duration of a ride - similar to what we did in this module."
   ]
  },
  {
   "cell_type": "markdown",
   "id": "1bd6f242-0c23-45f8-9d6e-218668329940",
   "metadata": {},
   "source": [
    "## Instaling dependencies"
   ]
  },
  {
   "cell_type": "code",
   "execution_count": 1,
   "id": "51f27c04-b251-4b21-a8cf-c1bff0aaee26",
   "metadata": {},
   "outputs": [
    {
     "name": "stdout",
     "output_type": "stream",
     "text": [
      "Channels:\n",
      " - conda-forge\n",
      "Platform: linux-64\n",
      "Collecting package metadata (repodata.json): ...working... done\n",
      "Solving environment: ...working... done\n",
      "\n",
      "# All requested packages already installed.\n",
      "\n"
     ]
    }
   ],
   "source": [
    "!conda install --yes --quiet pandas seaborn matplotlib scikit-learn pyarrow"
   ]
  },
  {
   "cell_type": "markdown",
   "id": "5ab2e7e3-cb58-45ee-bdd9-1ad910d853c5",
   "metadata": {},
   "source": [
    "## Import libs"
   ]
  },
  {
   "cell_type": "code",
   "execution_count": 2,
   "id": "a12b8f51-c0da-4375-8061-1becbb6f2de5",
   "metadata": {},
   "outputs": [],
   "source": [
    "import pandas as pd\n",
    "\n",
    "import pickle\n",
    "\n",
    "import seaborn as sns\n",
    "\n",
    "import matplotlib.pyplot as plt\n",
    "\n",
    "from sklearn.feature_extraction import DictVectorizer\n",
    "from sklearn.linear_model import LinearRegression\n",
    "from sklearn.linear_model import Lasso\n",
    "from sklearn.linear_model import Ridge\n",
    "from sklearn.metrics import root_mean_squared_error\n",
    "\n",
    "import numpy as np"
   ]
  },
  {
   "cell_type": "markdown",
   "id": "67f89986-9cd1-4caf-bb84-688d2c4bea62",
   "metadata": {},
   "source": [
    "## Q1. Downloading the data\n",
    "\n",
    "We'll use the same NYC taxi dataset, but instead of \"Green Taxi Trip Records\", we'll use \"Yellow Taxi Trip Records\".\n",
    "\n",
    "Download the data for January and February 2023."
   ]
  },
  {
   "cell_type": "code",
   "execution_count": 3,
   "id": "380c3e62-09ce-4336-84d6-5f8f953222db",
   "metadata": {},
   "outputs": [
    {
     "name": "stdout",
     "output_type": "stream",
     "text": [
      "  % Total    % Received % Xferd  Average Speed   Time    Time     Time  Current\n",
      "                                 Dload  Upload   Total   Spent    Left  Speed\n",
      "100 45.4M  100 45.4M    0     0  19.2M      0  0:00:02  0:00:02 --:--:-- 19.2M\n",
      "  % Total    % Received % Xferd  Average Speed   Time    Time     Time  Current\n",
      "                                 Dload  Upload   Total   Spent    Left  Speed\n",
      "100 45.5M  100 45.5M    0     0  21.2M      0  0:00:02  0:00:02 --:--:-- 21.2M\n"
     ]
    }
   ],
   "source": [
    "!mkdir -p data\n",
    "!curl https://d37ci6vzurychx.cloudfront.net/trip-data/yellow_tripdata_2023-01.parquet -o data/yellow_tripdata_2023-01.parquet\n",
    "!curl https://d37ci6vzurychx.cloudfront.net/trip-data/yellow_tripdata_2023-02.parquet -o data/yellow_tripdata_2023-02.parquet"
   ]
  },
  {
   "cell_type": "code",
   "execution_count": 4,
   "id": "e202c07c-9920-4bda-a5b8-4f5eecf0bbb3",
   "metadata": {},
   "outputs": [],
   "source": [
    "df = pd.read_parquet('./data/yellow_tripdata_2023-01.parquet')"
   ]
  },
  {
   "cell_type": "markdown",
   "id": "6963228e-1132-4736-a339-d4803555b9c3",
   "metadata": {},
   "source": [
    "Read the data for January. How many columns are there?"
   ]
  },
  {
   "cell_type": "code",
   "execution_count": 5,
   "id": "95d6fd1a-16ae-44fa-b824-216d4e9bb8bb",
   "metadata": {},
   "outputs": [
    {
     "data": {
      "text/plain": [
       "19"
      ]
     },
     "execution_count": 5,
     "metadata": {},
     "output_type": "execute_result"
    }
   ],
   "source": [
    "len(df.columns)"
   ]
  },
  {
   "cell_type": "markdown",
   "id": "a0c517a4-70ca-4578-849e-367d71e627c7",
   "metadata": {},
   "source": [
    "## Q2. Computing duration\n",
    "\n",
    "Now let's compute the duration variable. It should contain the duration of a ride in minutes."
   ]
  },
  {
   "cell_type": "code",
   "execution_count": 6,
   "id": "de205881-3327-48f2-969c-b9ece9dd0d23",
   "metadata": {},
   "outputs": [],
   "source": [
    "df.dtypes\n",
    "df['duration'] = df.tpep_dropoff_datetime - df.tpep_pickup_datetime\n",
    "df.duration = df.duration.apply(lambda td: td.total_seconds() / 60)"
   ]
  },
  {
   "cell_type": "markdown",
   "id": "32cbb18a-4c04-4c23-8972-52bbd4301f47",
   "metadata": {},
   "source": [
    "What's the standard deviation of the trips duration in January?"
   ]
  },
  {
   "cell_type": "code",
   "execution_count": 7,
   "id": "eec7802c-0bb5-4758-a2b8-4c2b9ada81b4",
   "metadata": {},
   "outputs": [
    {
     "data": {
      "text/plain": [
       "42.59"
      ]
     },
     "execution_count": 7,
     "metadata": {},
     "output_type": "execute_result"
    }
   ],
   "source": [
    "arr = np.array(df.duration)\n",
    "float(round(arr.std(), 2))"
   ]
  },
  {
   "cell_type": "markdown",
   "id": "8149bac9-e58e-4002-b566-c34bd3433322",
   "metadata": {},
   "source": [
    "# Q3. Dropping outliers\n",
    "\n",
    "Next, we need to check the distribution of the duration variable. There are some outliers. Let's remove them and keep only the records where the duration was between 1 and 60 minutes (inclusive)."
   ]
  },
  {
   "cell_type": "markdown",
   "id": "6acd4144-d4f7-472f-be75-d01b38c85f0e",
   "metadata": {},
   "source": [
    "What fraction of the records left after you dropped the outliers?"
   ]
  },
  {
   "cell_type": "code",
   "execution_count": 8,
   "id": "083a0cff-a131-4aa1-b496-92383daf92d0",
   "metadata": {},
   "outputs": [
    {
     "data": {
      "text/plain": [
       "98.0"
      ]
     },
     "execution_count": 8,
     "metadata": {},
     "output_type": "execute_result"
    }
   ],
   "source": [
    "float(round(((df.duration >= 1) & (df.duration <= 60)).mean(), 2) * 100)"
   ]
  },
  {
   "cell_type": "markdown",
   "id": "cc8b0557-73dc-470c-8380-75eb42d32a1e",
   "metadata": {},
   "source": [
    "# Q4. One-hot encoding\n",
    "\n",
    "Let's apply one-hot encoding to the pickup and dropoff location IDs. We'll use only these two features for our model.\n",
    "\n",
    "Turn the dataframe into a list of dictionaries (remember to re-cast the ids to strings - otherwise it will label encode them)"
   ]
  },
  {
   "cell_type": "code",
   "execution_count": 9,
   "id": "d554c7ec-1358-4e03-8398-db8f7e1236a3",
   "metadata": {},
   "outputs": [
    {
     "name": "stderr",
     "output_type": "stream",
     "text": [
      "/tmp/ipykernel_18247/1299758185.py:6: SettingWithCopyWarning: \n",
      "A value is trying to be set on a copy of a slice from a DataFrame.\n",
      "Try using .loc[row_indexer,col_indexer] = value instead\n",
      "\n",
      "See the caveats in the documentation: https://pandas.pydata.org/pandas-docs/stable/user_guide/indexing.html#returning-a-view-versus-a-copy\n",
      "  df[categorical] = df[categorical].astype(str)\n"
     ]
    }
   ],
   "source": [
    "df = df[(df.duration >= 1) & (df.duration <= 60)]\n",
    "\n",
    "categorical = ['PULocationID', 'DOLocationID']\n",
    "numerical = ['trip_distance']\n",
    "\n",
    "df[categorical] = df[categorical].astype(str)"
   ]
  },
  {
   "cell_type": "markdown",
   "id": "48cfd214-ac75-439d-9ce6-fbddb1545843",
   "metadata": {},
   "source": [
    "Fit a dictionary vectorizer"
   ]
  },
  {
   "cell_type": "code",
   "execution_count": 10,
   "id": "fa671540-763d-4388-b5ea-be78a2e1b6bc",
   "metadata": {},
   "outputs": [],
   "source": [
    "dicts = df[categorical + numerical].to_dict(orient='records')\n",
    "\n",
    "dv = DictVectorizer()"
   ]
  },
  {
   "cell_type": "markdown",
   "id": "2434671d-fd4b-47da-a566-d31d09fa7ee2",
   "metadata": {},
   "source": [
    "Get a feature matrix from it"
   ]
  },
  {
   "cell_type": "code",
   "execution_count": null,
   "id": "e29a4117-408a-4832-a52c-b74a04ca4a45",
   "metadata": {},
   "outputs": [],
   "source": [
    "feature_matrix = dv.fit_transform(dicts).toarray()\n",
    "feature_matrix"
   ]
  },
  {
   "cell_type": "markdown",
   "id": "b94eb855-46ed-4348-be81-d697f8ed57d8",
   "metadata": {},
   "source": [
    "What's the dimensionality of this matrix (number of columns)?"
   ]
  },
  {
   "cell_type": "code",
   "execution_count": null,
   "id": "772996df-5b11-47b1-b56e-a606ca0af51d",
   "metadata": {},
   "outputs": [],
   "source": []
  }
 ],
 "metadata": {
  "kernelspec": {
   "display_name": "Python 3 (ipykernel)",
   "language": "python",
   "name": "python3"
  },
  "language_info": {
   "codemirror_mode": {
    "name": "ipython",
    "version": 3
   },
   "file_extension": ".py",
   "mimetype": "text/x-python",
   "name": "python",
   "nbconvert_exporter": "python",
   "pygments_lexer": "ipython3",
   "version": "3.11.10"
  }
 },
 "nbformat": 4,
 "nbformat_minor": 5
}
