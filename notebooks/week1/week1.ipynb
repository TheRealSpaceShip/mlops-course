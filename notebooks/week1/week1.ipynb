{
 "cells": [
  {
   "cell_type": "markdown",
   "id": "40102c9a-2354-436e-8390-295a4e23b7d0",
   "metadata": {},
   "source": [
    "# Homework\n",
    "\n",
    "The goal of this homework is to train a simple model for predicting the duration of a ride - similar to what we did in this module."
   ]
  },
  {
   "cell_type": "markdown",
   "id": "5ab2e7e3-cb58-45ee-bdd9-1ad910d853c5",
   "metadata": {},
   "source": [
    "## Import libs"
   ]
  },
  {
   "cell_type": "code",
   "execution_count": 1,
   "id": "a12b8f51-c0da-4375-8061-1becbb6f2de5",
   "metadata": {},
   "outputs": [],
   "source": [
    "import pandas as pd\n",
    "\n",
    "import pickle\n",
    "\n",
    "from sklearn.feature_extraction import DictVectorizer\n",
    "from sklearn.linear_model import LinearRegression\n",
    "from sklearn.metrics import root_mean_squared_error\n",
    "\n",
    "import numpy as np"
   ]
  },
  {
   "cell_type": "markdown",
   "id": "67f89986-9cd1-4caf-bb84-688d2c4bea62",
   "metadata": {},
   "source": [
    "## Q1. Downloading the data\n",
    "\n",
    "We'll use the same NYC taxi dataset, but instead of \"Green Taxi Trip Records\", we'll use \"Yellow Taxi Trip Records\".\n",
    "\n",
    "Download the data for January and February 2023."
   ]
  },
  {
   "cell_type": "code",
   "execution_count": 2,
   "id": "380c3e62-09ce-4336-84d6-5f8f953222db",
   "metadata": {},
   "outputs": [
    {
     "name": "stdout",
     "output_type": "stream",
     "text": [
      "  % Total    % Received % Xferd  Average Speed   Time    Time     Time  Current\n",
      "                                 Dload  Upload   Total   Spent    Left  Speed\n",
      "100 45.4M  100 45.4M    0     0  23.1M      0  0:00:01  0:00:01 --:--:-- 23.1M\n",
      "  % Total    % Received % Xferd  Average Speed   Time    Time     Time  Current\n",
      "                                 Dload  Upload   Total   Spent    Left  Speed\n",
      "100 45.5M  100 45.5M    0     0  24.6M      0  0:00:01  0:00:01 --:--:-- 24.6M\n"
     ]
    }
   ],
   "source": [
    "!mkdir -p data\n",
    "!curl https://d37ci6vzurychx.cloudfront.net/trip-data/yellow_tripdata_2023-01.parquet -o data/yellow_tripdata_2023-01.parquet\n",
    "!curl https://d37ci6vzurychx.cloudfront.net/trip-data/yellow_tripdata_2023-02.parquet -o data/yellow_tripdata_2023-02.parquet"
   ]
  },
  {
   "cell_type": "code",
   "execution_count": 3,
   "id": "e202c07c-9920-4bda-a5b8-4f5eecf0bbb3",
   "metadata": {},
   "outputs": [],
   "source": [
    "df = pd.read_parquet('./data/yellow_tripdata_2023-01.parquet')"
   ]
  },
  {
   "cell_type": "markdown",
   "id": "6963228e-1132-4736-a339-d4803555b9c3",
   "metadata": {},
   "source": [
    "Read the data for January. How many columns are there?"
   ]
  },
  {
   "cell_type": "code",
   "execution_count": 4,
   "id": "95d6fd1a-16ae-44fa-b824-216d4e9bb8bb",
   "metadata": {},
   "outputs": [
    {
     "data": {
      "text/plain": [
       "19"
      ]
     },
     "execution_count": 4,
     "metadata": {},
     "output_type": "execute_result"
    }
   ],
   "source": [
    "len(df.columns)"
   ]
  },
  {
   "cell_type": "markdown",
   "id": "a0c517a4-70ca-4578-849e-367d71e627c7",
   "metadata": {},
   "source": [
    "## Q2. Computing duration\n",
    "\n",
    "Now let's compute the duration variable. It should contain the duration of a ride in minutes."
   ]
  },
  {
   "cell_type": "code",
   "execution_count": 5,
   "id": "de205881-3327-48f2-969c-b9ece9dd0d23",
   "metadata": {},
   "outputs": [],
   "source": [
    "df.dtypes\n",
    "df['duration'] = df.tpep_dropoff_datetime - df.tpep_pickup_datetime\n",
    "df.duration = df.duration.apply(lambda td: td.total_seconds() / 60)"
   ]
  },
  {
   "cell_type": "markdown",
   "id": "32cbb18a-4c04-4c23-8972-52bbd4301f47",
   "metadata": {},
   "source": [
    "What's the standard deviation of the trips duration in January?"
   ]
  },
  {
   "cell_type": "code",
   "execution_count": 6,
   "id": "eec7802c-0bb5-4758-a2b8-4c2b9ada81b4",
   "metadata": {},
   "outputs": [
    {
     "data": {
      "text/plain": [
       "42.59"
      ]
     },
     "execution_count": 6,
     "metadata": {},
     "output_type": "execute_result"
    }
   ],
   "source": [
    "arr = np.array(df.duration)\n",
    "float(round(arr.std(), 2))"
   ]
  },
  {
   "cell_type": "markdown",
   "id": "8149bac9-e58e-4002-b566-c34bd3433322",
   "metadata": {},
   "source": [
    "# Q3. Dropping outliers\n",
    "\n",
    "Next, we need to check the distribution of the duration variable. There are some outliers. Let's remove them and keep only the records where the duration was between 1 and 60 minutes (inclusive)."
   ]
  },
  {
   "cell_type": "markdown",
   "id": "6acd4144-d4f7-472f-be75-d01b38c85f0e",
   "metadata": {},
   "source": [
    "What fraction of the records left after you dropped the outliers?"
   ]
  },
  {
   "cell_type": "code",
   "execution_count": 7,
   "id": "083a0cff-a131-4aa1-b496-92383daf92d0",
   "metadata": {},
   "outputs": [
    {
     "data": {
      "text/plain": [
       "98.0"
      ]
     },
     "execution_count": 7,
     "metadata": {},
     "output_type": "execute_result"
    }
   ],
   "source": [
    "float(round(((df.duration >= 1) & (df.duration <= 60)).mean(), 2) * 100)"
   ]
  },
  {
   "cell_type": "markdown",
   "id": "cc8b0557-73dc-470c-8380-75eb42d32a1e",
   "metadata": {},
   "source": [
    "# Q4. One-hot encoding\n",
    "\n",
    "Let's apply one-hot encoding to the pickup and dropoff location IDs. We'll use only these two features for our model.\n",
    "\n",
    "Turn the dataframe into a list of dictionaries (remember to re-cast the ids to strings - otherwise it will label encode them)"
   ]
  },
  {
   "cell_type": "code",
   "execution_count": 8,
   "id": "d554c7ec-1358-4e03-8398-db8f7e1236a3",
   "metadata": {},
   "outputs": [],
   "source": [
    "df = df[(df.duration >= 1) & (df.duration <= 60)]\n",
    "\n",
    "categorical = ['PULocationID', 'DOLocationID']\n",
    "numerical = ['trip_distance']\n",
    "\n",
    "df[categorical] = df[categorical].astype(str)"
   ]
  },
  {
   "cell_type": "markdown",
   "id": "48cfd214-ac75-439d-9ce6-fbddb1545843",
   "metadata": {},
   "source": [
    "Fit a dictionary vectorizer"
   ]
  },
  {
   "cell_type": "code",
   "execution_count": 9,
   "id": "fa671540-763d-4388-b5ea-be78a2e1b6bc",
   "metadata": {},
   "outputs": [],
   "source": [
    "dicts = df[categorical + numerical].to_dict(orient='records')\n",
    "\n",
    "dv = DictVectorizer()"
   ]
  },
  {
   "cell_type": "markdown",
   "id": "2434671d-fd4b-47da-a566-d31d09fa7ee2",
   "metadata": {},
   "source": [
    "Get a feature matrix from it"
   ]
  },
  {
   "cell_type": "code",
   "execution_count": 10,
   "id": "e29a4117-408a-4832-a52c-b74a04ca4a45",
   "metadata": {},
   "outputs": [],
   "source": [
    "x_train = dv.fit_transform(dicts)"
   ]
  },
  {
   "cell_type": "markdown",
   "id": "b94eb855-46ed-4348-be81-d697f8ed57d8",
   "metadata": {},
   "source": [
    "What's the dimensionality of this matrix (number of columns)?"
   ]
  },
  {
   "cell_type": "code",
   "execution_count": 11,
   "id": "772996df-5b11-47b1-b56e-a606ca0af51d",
   "metadata": {},
   "outputs": [
    {
     "data": {
      "text/plain": [
       "515"
      ]
     },
     "execution_count": 11,
     "metadata": {},
     "output_type": "execute_result"
    }
   ],
   "source": [
    "x_train.shape[1] - 1"
   ]
  },
  {
   "cell_type": "markdown",
   "id": "e375f2b9-ea5c-45de-ab8f-edff6f54f66c",
   "metadata": {},
   "source": [
    "## Q5. Training a model\n",
    "\n",
    "Now let's use the feature matrix from the previous step to train a model."
   ]
  },
  {
   "cell_type": "markdown",
   "id": "b29d43cb-3cbb-4c5b-bbab-39fa3a76d057",
   "metadata": {},
   "source": [
    "Train a plain linear regression model with default parameters, where duration is the response variable"
   ]
  },
  {
   "cell_type": "code",
   "execution_count": 12,
   "id": "a4503a4f-f3c7-4421-b8e6-617865136c19",
   "metadata": {},
   "outputs": [],
   "source": [
    "target = 'duration'\n",
    "y_train = df[target].values\n",
    "\n",
    "lr = LinearRegression()\n",
    "lr.fit(x_train, y_train)\n",
    "\n",
    "y_pred = lr.predict(x_train)"
   ]
  },
  {
   "cell_type": "markdown",
   "id": "2af492b4-3f15-4205-84d1-941dbbd2f73f",
   "metadata": {},
   "source": [
    "Calculate the RMSE of the model on the training data"
   ]
  },
  {
   "cell_type": "code",
   "execution_count": 13,
   "id": "03b5a951-b0bf-4199-862c-94c6f22a8455",
   "metadata": {},
   "outputs": [],
   "source": [
    "rmse = root_mean_squared_error(y_train, y_pred)"
   ]
  },
  {
   "cell_type": "markdown",
   "id": "a57c58d5-e96d-40db-b5ef-6fb36a69d8a2",
   "metadata": {},
   "source": [
    "What's the RMSE on train?"
   ]
  },
  {
   "cell_type": "code",
   "execution_count": 14,
   "id": "854abe9f-3234-48b1-a2a3-334ca717bdc8",
   "metadata": {},
   "outputs": [
    {
     "data": {
      "text/plain": [
       "7.66"
      ]
     },
     "execution_count": 14,
     "metadata": {},
     "output_type": "execute_result"
    }
   ],
   "source": [
    "float(round(rmse, 2))"
   ]
  },
  {
   "cell_type": "markdown",
   "id": "49239e75-7e31-46d3-82de-80752a5e52b9",
   "metadata": {},
   "source": [
    "## Q6. Evaluating the model\n",
    "\n",
    "Now let's apply this model to the validation dataset (February 2023)."
   ]
  },
  {
   "cell_type": "code",
   "execution_count": 15,
   "id": "9d9a3023-eb19-490c-b875-d70a962389fa",
   "metadata": {},
   "outputs": [],
   "source": [
    "df_val = pd.read_parquet('./data/yellow_tripdata_2023-02.parquet')\n",
    "df_val['duration'] = df_val.tpep_dropoff_datetime - df_val.tpep_pickup_datetime\n",
    "df_val.duration = df_val.duration.apply(lambda td: td.total_seconds() / 60)\n",
    "df_val = df_val[(df_val.duration >= 1) & (df_val.duration <= 60)]"
   ]
  },
  {
   "cell_type": "code",
   "execution_count": 16,
   "id": "b9839224-4642-4ac7-8c46-46172bd1791b",
   "metadata": {},
   "outputs": [],
   "source": [
    "categorical = ['PULocationID', 'DOLocationID']\n",
    "numerical = ['trip_distance']\n",
    "\n",
    "df_val[categorical] = df_val[categorical].astype(str)\n",
    "dicts_val = df_val[categorical + numerical].to_dict(orient='records')\n",
    "\n",
    "x_val = dv.transform(dicts_val)\n",
    "\n",
    "target = 'duration'\n",
    "y_val = df_val[target].values\n",
    "\n",
    "lr = LinearRegression()\n",
    "lr.fit(x_train, y_train)\n",
    "\n",
    "y_pred = lr.predict(x_val)\n",
    "val_rmse = root_mean_squared_error(y_val, y_pred)"
   ]
  },
  {
   "cell_type": "markdown",
   "id": "6d0bae49-48e5-42e4-b75e-394503b48993",
   "metadata": {},
   "source": [
    "What's the RMSE on validation?"
   ]
  },
  {
   "cell_type": "code",
   "execution_count": 17,
   "id": "fc0682cc-67c4-4edd-a799-0562e3035872",
   "metadata": {},
   "outputs": [
    {
     "data": {
      "text/plain": [
       "7.82"
      ]
     },
     "execution_count": 17,
     "metadata": {},
     "output_type": "execute_result"
    }
   ],
   "source": [
    "float(round(val_rmse, 2))"
   ]
  },
  {
   "cell_type": "code",
   "execution_count": null,
   "id": "2b433c22-4c0d-4453-ab16-fdba453f0069",
   "metadata": {},
   "outputs": [],
   "source": []
  }
 ],
 "metadata": {
  "kernelspec": {
   "display_name": "Python 3 (ipykernel)",
   "language": "python",
   "name": "python3"
  },
  "language_info": {
   "codemirror_mode": {
    "name": "ipython",
    "version": 3
   },
   "file_extension": ".py",
   "mimetype": "text/x-python",
   "name": "python",
   "nbconvert_exporter": "python",
   "pygments_lexer": "ipython3",
   "version": "3.11.10"
  }
 },
 "nbformat": 4,
 "nbformat_minor": 5
}
