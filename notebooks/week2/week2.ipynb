{
 "cells": [
  {
   "cell_type": "markdown",
   "id": "b1aecc08-b2c9-4e8d-a342-d94502843c3b",
   "metadata": {},
   "source": [
    "# Homework\n",
    "\n",
    "The goal of this homework is to get familiar with MLflow, the tool for experiment tracking and model management."
   ]
  },
  {
   "cell_type": "markdown",
   "id": "00a13794-ed16-4218-8809-8b6801394db5",
   "metadata": {},
   "source": [
    "## Q1. Install MLflow\n",
    "\n",
    "To get started with MLflow you'll need to install the MLflow Python package.\n",
    "\n",
    "For this we recommend creating a separate Python environment, for example, you can use conda environments, and then install the package there with `pip` or `conda`.\n",
    "\n",
    "Once you installed the package, run the command `mlflow --version` and check the output."
   ]
  },
  {
   "cell_type": "code",
   "execution_count": 7,
   "id": "a078dca5-db31-4026-be80-da33279b2f8e",
   "metadata": {},
   "outputs": [
    {
     "name": "stdout",
     "output_type": "stream",
     "text": [
      "Retrieving notices: ...working... done\n",
      "Channels:\n",
      " - conda-forge\n",
      "Platform: linux-64\n",
      "Collecting package metadata (repodata.json): ...working... done\n",
      "Solving environment: ...working... done\n",
      "\n",
      "## Package Plan ##\n",
      "\n",
      "  environment location: /opt/conda\n",
      "\n",
      "  added / updated specs:\n",
      "    - mlflow\n",
      "\n",
      "\n",
      "The following packages will be downloaded:\n",
      "\n",
      "    package                    |            build\n",
      "    ---------------------------|-----------------\n",
      "    aiohappyeyeballs-2.4.0     |     pyhd8ed1ab_0          17 KB  conda-forge\n",
      "    aiohttp-3.10.5             |  py311h9ecbd09_1         814 KB  conda-forge\n",
      "    aiosignal-1.3.1            |     pyhd8ed1ab_0          12 KB  conda-forge\n",
      "    aniso8601-9.0.1            |     pyhd8ed1ab_0          38 KB  conda-forge\n",
      "    bcrypt-4.2.0               |  py311h9e33e62_1         243 KB  conda-forge\n",
      "    cachetools-5.5.0           |     pyhd8ed1ab_0          14 KB  conda-forge\n",
      "    click-8.1.7                |unix_pyh707e725_0          82 KB  conda-forge\n",
      "    cloudpickle-3.0.0          |     pyhd8ed1ab_0          24 KB  conda-forge\n",
      "    databricks-sdk-0.32.3      |     pyhd8ed1ab_0         342 KB  conda-forge\n",
      "    deprecated-1.2.14          |     pyh1a96a4e_0          14 KB  conda-forge\n",
      "    docker-py-7.1.0            |     pyhd8ed1ab_0         102 KB  conda-forge\n",
      "    flask-3.0.3                |     pyhd8ed1ab_0          79 KB  conda-forge\n",
      "    frozenlist-1.4.1           |  py311h9ecbd09_1          59 KB  conda-forge\n",
      "    gitdb-4.0.11               |     pyhd8ed1ab_0          52 KB  conda-forge\n",
      "    gitpython-3.1.43           |     pyhd8ed1ab_0         153 KB  conda-forge\n",
      "    google-auth-2.35.0         |     pyhff2d567_0         113 KB  conda-forge\n",
      "    graphene-3.3               |     pyhd8ed1ab_0          58 KB  conda-forge\n",
      "    graphql-core-3.2.4         |     pyhd8ed1ab_0         351 KB  conda-forge\n",
      "    graphql-relay-3.2.0        |     pyhd8ed1ab_0          27 KB  conda-forge\n",
      "    gunicorn-22.0.0            |  py311h38be061_0         182 KB  conda-forge\n",
      "    itsdangerous-2.2.0         |     pyhd8ed1ab_0          19 KB  conda-forge\n",
      "    markdown-3.6               |     pyhd8ed1ab_0          76 KB  conda-forge\n",
      "    mlflow-2.16.2              |       h38be061_0          16 KB  conda-forge\n",
      "    mlflow-skinny-2.16.2       |  py311h38be061_0         5.6 MB  conda-forge\n",
      "    mlflow-ui-2.16.2           |  py311h38be061_0         4.2 MB  conda-forge\n",
      "    multidict-6.1.0            |  py311h9ecbd09_0          61 KB  conda-forge\n",
      "    opentelemetry-api-1.16.0   |     pyhd8ed1ab_0          39 KB  conda-forge\n",
      "    opentelemetry-sdk-1.16.0   |     pyhd8ed1ab_0          62 KB  conda-forge\n",
      "    opentelemetry-semantic-conventions-0.37b0|     pyhd8ed1ab_0          28 KB  conda-forge\n",
      "    paramiko-3.5.0             |     pyhd8ed1ab_0         157 KB  conda-forge\n",
      "    prometheus_flask_exporter-0.23.1|     pyhd8ed1ab_0          22 KB  conda-forge\n",
      "    protobuf-4.25.3            |  py311hbffca5d_1         390 KB  conda-forge\n",
      "    pyasn1-0.6.1               |     pyhd8ed1ab_1          61 KB  conda-forge\n",
      "    pyasn1-modules-0.4.1       |     pyhd8ed1ab_0          94 KB  conda-forge\n",
      "    pynacl-1.5.0               |  py311h9ecbd09_4         1.1 MB  conda-forge\n",
      "    pyopenssl-24.2.1           |     pyhd8ed1ab_2         125 KB  conda-forge\n",
      "    pyu2f-0.1.5                |     pyhd8ed1ab_0          31 KB  conda-forge\n",
      "    pywin32-on-windows-0.1.0   |     pyh1179c8e_3           5 KB  conda-forge\n",
      "    querystring_parser-1.2.4   |     pyhd8ed1ab_1          13 KB  conda-forge\n",
      "    rsa-4.9                    |     pyhd8ed1ab_0          29 KB  conda-forge\n",
      "    smmap-5.0.0                |     pyhd8ed1ab_0          22 KB  conda-forge\n",
      "    sqlparse-0.5.1             |     pyhd8ed1ab_0          39 KB  conda-forge\n",
      "    werkzeug-3.0.4             |     pyhd8ed1ab_0         237 KB  conda-forge\n",
      "    wrapt-1.16.0               |  py311h9ecbd09_1          62 KB  conda-forge\n",
      "    yarl-1.9.4                 |  py311h9ecbd09_1         119 KB  conda-forge\n",
      "    ------------------------------------------------------------\n",
      "                                           Total:        15.3 MB\n",
      "\n",
      "The following NEW packages will be INSTALLED:\n",
      "\n",
      "  aiohappyeyeballs   conda-forge/noarch::aiohappyeyeballs-2.4.0-pyhd8ed1ab_0 \n",
      "  aiohttp            conda-forge/linux-64::aiohttp-3.10.5-py311h9ecbd09_1 \n",
      "  aiosignal          conda-forge/noarch::aiosignal-1.3.1-pyhd8ed1ab_0 \n",
      "  aniso8601          conda-forge/noarch::aniso8601-9.0.1-pyhd8ed1ab_0 \n",
      "  bcrypt             conda-forge/linux-64::bcrypt-4.2.0-py311h9e33e62_1 \n",
      "  cachetools         conda-forge/noarch::cachetools-5.5.0-pyhd8ed1ab_0 \n",
      "  click              conda-forge/noarch::click-8.1.7-unix_pyh707e725_0 \n",
      "  cloudpickle        conda-forge/noarch::cloudpickle-3.0.0-pyhd8ed1ab_0 \n",
      "  databricks-sdk     conda-forge/noarch::databricks-sdk-0.32.3-pyhd8ed1ab_0 \n",
      "  deprecated         conda-forge/noarch::deprecated-1.2.14-pyh1a96a4e_0 \n",
      "  docker-py          conda-forge/noarch::docker-py-7.1.0-pyhd8ed1ab_0 \n",
      "  flask              conda-forge/noarch::flask-3.0.3-pyhd8ed1ab_0 \n",
      "  frozenlist         conda-forge/linux-64::frozenlist-1.4.1-py311h9ecbd09_1 \n",
      "  gitdb              conda-forge/noarch::gitdb-4.0.11-pyhd8ed1ab_0 \n",
      "  gitpython          conda-forge/noarch::gitpython-3.1.43-pyhd8ed1ab_0 \n",
      "  google-auth        conda-forge/noarch::google-auth-2.35.0-pyhff2d567_0 \n",
      "  graphene           conda-forge/noarch::graphene-3.3-pyhd8ed1ab_0 \n",
      "  graphql-core       conda-forge/noarch::graphql-core-3.2.4-pyhd8ed1ab_0 \n",
      "  graphql-relay      conda-forge/noarch::graphql-relay-3.2.0-pyhd8ed1ab_0 \n",
      "  gunicorn           conda-forge/linux-64::gunicorn-22.0.0-py311h38be061_0 \n",
      "  itsdangerous       conda-forge/noarch::itsdangerous-2.2.0-pyhd8ed1ab_0 \n",
      "  markdown           conda-forge/noarch::markdown-3.6-pyhd8ed1ab_0 \n",
      "  mlflow             conda-forge/linux-64::mlflow-2.16.2-h38be061_0 \n",
      "  mlflow-skinny      conda-forge/linux-64::mlflow-skinny-2.16.2-py311h38be061_0 \n",
      "  mlflow-ui          conda-forge/linux-64::mlflow-ui-2.16.2-py311h38be061_0 \n",
      "  multidict          conda-forge/linux-64::multidict-6.1.0-py311h9ecbd09_0 \n",
      "  opentelemetry-api  conda-forge/noarch::opentelemetry-api-1.16.0-pyhd8ed1ab_0 \n",
      "  opentelemetry-sdk  conda-forge/noarch::opentelemetry-sdk-1.16.0-pyhd8ed1ab_0 \n",
      "  opentelemetry-sem~ conda-forge/noarch::opentelemetry-semantic-conventions-0.37b0-pyhd8ed1ab_0 \n",
      "  paramiko           conda-forge/noarch::paramiko-3.5.0-pyhd8ed1ab_0 \n",
      "  prometheus_flask_~ conda-forge/noarch::prometheus_flask_exporter-0.23.1-pyhd8ed1ab_0 \n",
      "  protobuf           conda-forge/linux-64::protobuf-4.25.3-py311hbffca5d_1 \n",
      "  pyasn1             conda-forge/noarch::pyasn1-0.6.1-pyhd8ed1ab_1 \n",
      "  pyasn1-modules     conda-forge/noarch::pyasn1-modules-0.4.1-pyhd8ed1ab_0 \n",
      "  pynacl             conda-forge/linux-64::pynacl-1.5.0-py311h9ecbd09_4 \n",
      "  pyopenssl          conda-forge/noarch::pyopenssl-24.2.1-pyhd8ed1ab_2 \n",
      "  pyu2f              conda-forge/noarch::pyu2f-0.1.5-pyhd8ed1ab_0 \n",
      "  pywin32-on-windows conda-forge/noarch::pywin32-on-windows-0.1.0-pyh1179c8e_3 \n",
      "  querystring_parser conda-forge/noarch::querystring_parser-1.2.4-pyhd8ed1ab_1 \n",
      "  rsa                conda-forge/noarch::rsa-4.9-pyhd8ed1ab_0 \n",
      "  smmap              conda-forge/noarch::smmap-5.0.0-pyhd8ed1ab_0 \n",
      "  sqlparse           conda-forge/noarch::sqlparse-0.5.1-pyhd8ed1ab_0 \n",
      "  werkzeug           conda-forge/noarch::werkzeug-3.0.4-pyhd8ed1ab_0 \n",
      "  wrapt              conda-forge/linux-64::wrapt-1.16.0-py311h9ecbd09_1 \n",
      "  yarl               conda-forge/linux-64::yarl-1.9.4-py311h9ecbd09_1 \n",
      "\n",
      "\n",
      "Preparing transaction: ...working... done\n",
      "Verifying transaction: ...working... done\n",
      "Executing transaction: ...working... done\n"
     ]
    }
   ],
   "source": [
    "!conda install --quiet --yes mlflow"
   ]
  },
  {
   "cell_type": "markdown",
   "id": "85c5f89a-6335-43be-9d50-c201de28fade",
   "metadata": {},
   "source": [
    "What's the version that you have?"
   ]
  },
  {
   "cell_type": "code",
   "execution_count": 8,
   "id": "f7581e28-2247-4e45-a282-75eff3550d47",
   "metadata": {},
   "outputs": [
    {
     "name": "stdout",
     "output_type": "stream",
     "text": [
      "mlflow, version 2.16.2\n"
     ]
    }
   ],
   "source": [
    "!mlflow --version"
   ]
  },
  {
   "cell_type": "markdown",
   "id": "470c44f3-532b-4ba8-b54a-ca701fcabb86",
   "metadata": {},
   "source": [
    "## Q2. Download and preprocess the data\n",
    "\n",
    "We'll use the Green Taxi Trip Records dataset to predict the duration of each trip.\n",
    "\n",
    "Download the data for January, February and March 2023 in parquet format from [here](https://www1.nyc.gov/site/tlc/about/tlc-trip-record-data.page)."
   ]
  },
  {
   "cell_type": "code",
   "execution_count": 9,
   "id": "be8e3ee0-ea2e-4da1-be89-c1990f29071e",
   "metadata": {},
   "outputs": [
    {
     "name": "stdout",
     "output_type": "stream",
     "text": [
      "  % Total    % Received % Xferd  Average Speed   Time    Time     Time  Current\n",
      "                                 Dload  Upload   Total   Spent    Left  Speed\n",
      "100 45.4M  100 45.4M    0     0  25.1M      0  0:00:01  0:00:01 --:--:-- 25.1M\n",
      "  % Total    % Received % Xferd  Average Speed   Time    Time     Time  Current\n",
      "                                 Dload  Upload   Total   Spent    Left  Speed\n",
      "100 45.5M  100 45.5M    0     0  27.5M      0  0:00:01  0:00:01 --:--:-- 27.5M\n",
      "  % Total    % Received % Xferd  Average Speed   Time    Time     Time  Current\n",
      "                                 Dload  Upload   Total   Spent    Left  Speed\n",
      "100 45.5M  100 45.5M    0     0  29.1M      0  0:00:01  0:00:01 --:--:-- 29.1M\n"
     ]
    }
   ],
   "source": [
    "!mkdir -p data\n",
    "!curl https://d37ci6vzurychx.cloudfront.net/trip-data/yellow_tripdata_2023-01.parquet -o data/green_tripdata_2023-01.parquet\n",
    "!curl https://d37ci6vzurychx.cloudfront.net/trip-data/yellow_tripdata_2023-02.parquet -o data/green_tripdata_2023-02.parquet\n",
    "!curl https://d37ci6vzurychx.cloudfront.net/trip-data/yellow_tripdata_2023-02.parquet -o data/green_tripdata_2023-03.parquet"
   ]
  },
  {
   "cell_type": "markdown",
   "id": "7b7f0156-c253-40c9-9e7d-418299cf32a6",
   "metadata": {},
   "source": [
    "Use the script `preprocess_data.py` located in the folder homework to preprocess the data.\n",
    "\n",
    "The script will:\n",
    "\n",
    "- load the data from the folder <TAXI_DATA_FOLDER> (the folder where you have downloaded the data),\n",
    "- fit a DictVectorizer on the training set (January 2023 data),\n",
    "- save the preprocessed datasets and the DictVectorizer to disk.\n",
    "\n",
    "Your task is to download the datasets and then execute this command:\n",
    "\n",
    "```shell\n",
    "python preprocess_data.py --raw_data_path <TAXI_DATA_FOLDER> --dest_path ./\n",
    "```\n",
    "\n",
    "*Tip: go to homework folder before executing the command and change the value of <TAXI_DATA_FOLDER> to the location where you saved the data.*"
   ]
  },
  {
   "cell_type": "code",
   "execution_count": 11,
   "id": "d28914de-aff2-49b4-8b36-ab8c8b11205e",
   "metadata": {},
   "outputs": [],
   "source": [
    "!python preprocess_data.py --raw_data_path ./data --dest_path ./output"
   ]
  },
  {
   "cell_type": "markdown",
   "id": "2c194bd6-a48e-4103-abf8-578c138e8d2e",
   "metadata": {},
   "source": [
    "How many files were saved to `OUTPUT_FOLDER`?"
   ]
  },
  {
   "cell_type": "code",
   "execution_count": 14,
   "id": "3c2677a6-41a4-4693-9488-f8b99c2c7283",
   "metadata": {},
   "outputs": [
    {
     "name": "stdout",
     "output_type": "stream",
     "text": [
      "4\n"
     ]
    }
   ],
   "source": [
    "!ls ./output/ | wc -l"
   ]
  },
  {
   "cell_type": "markdown",
   "id": "42b4ff53-7d05-495b-9a3e-55e566686775",
   "metadata": {},
   "source": [
    "## Q3. Train a model with autolog\n",
    "\n",
    "We will train a `RandomForestRegressor` (from Scikit-Learn) on the taxi dataset.\n",
    "\n",
    "We have prepared the training script `train.py` for this exercise, which can be also found in the folder homework.\n",
    "\n",
    "The script will:\n",
    "\n",
    "- load the datasets produced by the previous step,\n",
    "- train the model on the training set,\n",
    "- calculate the RMSE score on the validation set.\n",
    "\n",
    "Your task is to modify the script to enable **autologging** with MLflow, execute the script and then launch the MLflow UI to check that the experiment run was properly tracked.\n",
    "\n",
    "*Tip 1: don't forget to wrap the training code with a with `mlflow.start_run()`: statement as we showed in the videos.*\n",
    "\n",
    "*Tip 2: don't modify the hyperparameters of the model to make sure that the training will finish quickly.*"
   ]
  },
  {
   "cell_type": "code",
   "execution_count": null,
   "id": "2e176d0d-4927-407f-bd83-e903db30a338",
   "metadata": {},
   "outputs": [],
   "source": []
  },
  {
   "cell_type": "markdown",
   "id": "943c966c-5f52-4cb7-879f-d1efd423cb97",
   "metadata": {},
   "source": [
    "What is the value of the `min_samples_split` parameter:\n",
    "\n",
    "- 2\n",
    "- 4\n",
    "- 8\n",
    "- 10"
   ]
  },
  {
   "cell_type": "code",
   "execution_count": null,
   "id": "110f5983-fff2-4791-9f23-628f89cd707d",
   "metadata": {},
   "outputs": [],
   "source": []
  },
  {
   "cell_type": "markdown",
   "id": "4eabc58f-44a7-428e-ac6c-6b5db74ad6c2",
   "metadata": {},
   "source": [
    "## Q4. Launch the tracking server locally\n",
    "\n",
    "Now we want to manage the entire lifecycle of our ML model. In this step, you'll need to launch a tracking server. This way we will also have access to the model registry.\n",
    "\n",
    "Your task is to:\n",
    "\n",
    "- launch the tracking server on your local machine,\n",
    "- select a SQLite db for the backend store and a folder called artifacts for the artifacts store.\n",
    "- You should keep the tracking server running to work on the next two exercises that use the server."
   ]
  },
  {
   "cell_type": "code",
   "execution_count": null,
   "id": "0651913e-7bff-481d-a1bc-3d535ea2f65f",
   "metadata": {},
   "outputs": [],
   "source": []
  },
  {
   "cell_type": "markdown",
   "id": "519e8fcc-a8db-4be3-abc7-76fd6a49f09f",
   "metadata": {},
   "source": [
    "In addition to `backend-store-uri`, what else do you need to pass to properly configure the server?\n",
    "\n",
    "- default-artifact-root\n",
    "- serve-artifacts\n",
    "- artifacts-only\n",
    "- artifacts-destination"
   ]
  },
  {
   "cell_type": "code",
   "execution_count": null,
   "id": "d99b8538-bc8a-4220-a458-f4d0202cb6fb",
   "metadata": {},
   "outputs": [],
   "source": []
  },
  {
   "cell_type": "markdown",
   "id": "fe5d019e-e360-4283-accf-7adbc293691c",
   "metadata": {},
   "source": [
    "## Q5. Tune model hyperparameters\n",
    "\n",
    "Now let's try to reduce the validation error by tuning the hyperparameters of the RandomForestRegressor using hyperopt. We have prepared the script hpo.py for this exercise.\n",
    "\n",
    "Your task is to modify the script `hpo.py` and make sure that the validation RMSE is logged to the tracking server for each run of the hyperparameter optimization (you will need to add a few lines of code to the `objective` function) and run the script without passing any parameters.\n",
    "\n",
    "After that, open UI and explore the runs from the experiment called random-forest-hyperopt to answer the question below.\n",
    "\n",
    "*Note: Don't use autologging for this exercise.*\n",
    "\n",
    "The idea is to just log the information that you need to answer the question below, including:\n",
    "\n",
    "- the list of hyperparameters that are passed to the objective function during the optimization,\n",
    "- the RMSE obtained on the validation set (February 2023 data)."
   ]
  },
  {
   "cell_type": "code",
   "execution_count": null,
   "id": "45fa64a8-2b1d-404b-9f35-7d99d1ae47be",
   "metadata": {},
   "outputs": [],
   "source": []
  },
  {
   "cell_type": "markdown",
   "id": "df58510b-7ce6-4a1d-968d-ad11d678a389",
   "metadata": {},
   "source": [
    "What's the best validation RMSE that you got?\n",
    "\n",
    "- 4.817\n",
    "- 5.335\n",
    "- 5.818\n",
    "- 6.336"
   ]
  },
  {
   "cell_type": "code",
   "execution_count": null,
   "id": "4d5b7b12-89f0-48a2-a1fe-79ac097cbfca",
   "metadata": {},
   "outputs": [],
   "source": []
  },
  {
   "cell_type": "markdown",
   "id": "a9d5bd39-b93f-424d-a66e-eb42d43ed498",
   "metadata": {},
   "source": [
    "## Q6. Promote the best model to the model registry\n",
    "\n",
    "The results from the hyperparameter optimization are quite good. So, we can assume that we are ready to test some of these models in production. In this exercise, you'll promote the best model to the model registry. We have prepared a script called `register_model.py`, which will check the results from the previous step and select the top 5 runs. After that, it will calculate the RMSE of those models on the test set (March 2023 data) and save the results to a new experiment called `random-forest-best-models`.\n",
    "\n",
    "Your task is to update the script `register_model.py` so that it selects the model with the lowest RMSE on the test set and registers it to the model registry.\n",
    "\n",
    "*Tip 1: you can use the method `search_runs` from the `MlflowClient` to get the model with the lowest RMSE,*\n",
    "\n",
    "*Tip 2: to register the model you can use the method `mlflow.register_model` and you will need to pass the right model_uri in the form of a string that looks like this: `\"runs:/<RUN_ID>/model\"`, and the name of the model (make sure to choose a good one!).*"
   ]
  },
  {
   "cell_type": "code",
   "execution_count": null,
   "id": "41f1d676-1561-4412-a61b-3dde8bbdac07",
   "metadata": {},
   "outputs": [],
   "source": []
  },
  {
   "cell_type": "markdown",
   "id": "2ca88096-74d0-4114-832b-0805e0265ebd",
   "metadata": {},
   "source": [
    "What is the test RMSE of the best model?\n",
    "\n",
    "- 5.060\n",
    "- 5.567\n",
    "- 6.061\n",
    "- 6.568"
   ]
  },
  {
   "cell_type": "code",
   "execution_count": null,
   "id": "84c66ce7-9f32-4c51-bf87-b5b705aa1364",
   "metadata": {},
   "outputs": [],
   "source": []
  },
  {
   "cell_type": "markdown",
   "id": "b3eee6cb-e976-4dd8-ac43-eb6235bc0231",
   "metadata": {},
   "source": [
    "## Summary\n",
    "\n",
    "### Q1. Install MLflow\n",
    "\n",
    "`mlflow, version 2.16.2`\n",
    "\n",
    "### Q2. Download and preprocess the data\n",
    "\n",
    "4\n",
    "\n",
    "### Q3. Train a model with autolog\n",
    "\n",
    "TBD\n",
    "\n",
    "### Q4. Launch the tracking server locally\n",
    "\n",
    "TBD\n",
    "\n",
    "### Q5. Tune model hyperparameters\n",
    "\n",
    "TBD\n",
    "\n",
    "### Q6. Promote the best model to the model registry\n",
    "\n",
    "TBD\n"
   ]
  }
 ],
 "metadata": {
  "kernelspec": {
   "display_name": "Python 3 (ipykernel)",
   "language": "python",
   "name": "python3"
  },
  "language_info": {
   "codemirror_mode": {
    "name": "ipython",
    "version": 3
   },
   "file_extension": ".py",
   "mimetype": "text/x-python",
   "name": "python",
   "nbconvert_exporter": "python",
   "pygments_lexer": "ipython3",
   "version": "3.11.10"
  }
 },
 "nbformat": 4,
 "nbformat_minor": 5
}
