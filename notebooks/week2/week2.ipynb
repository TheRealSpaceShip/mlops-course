{
 "cells": [
  {
   "cell_type": "markdown",
   "id": "b1aecc08-b2c9-4e8d-a342-d94502843c3b",
   "metadata": {},
   "source": [
    "# Homework\n",
    "\n",
    "The goal of this homework is to get familiar with MLflow, the tool for experiment tracking and model management."
   ]
  },
  {
   "cell_type": "markdown",
   "id": "00a13794-ed16-4218-8809-8b6801394db5",
   "metadata": {},
   "source": [
    "## Q1. Install MLflow\n",
    "\n",
    "To get started with MLflow you'll need to install the MLflow Python package.\n",
    "\n",
    "For this we recommend creating a separate Python environment, for example, you can use conda environments, and then install the package there with `pip` or `conda`.\n",
    "\n",
    "Once you installed the package, run the command `mlflow --version` and check the output."
   ]
  },
  {
   "cell_type": "code",
   "execution_count": 1,
   "id": "a078dca5-db31-4026-be80-da33279b2f8e",
   "metadata": {},
   "outputs": [
    {
     "name": "stdout",
     "output_type": "stream",
     "text": [
      "Retrieving notices: ...working... done\n",
      "Channels:\n",
      " - conda-forge\n",
      "Platform: linux-64\n",
      "Collecting package metadata (repodata.json): ...working... done\n",
      "Solving environment: ...working... done\n",
      "\n",
      "## Package Plan ##\n",
      "\n",
      "  environment location: /opt/conda\n",
      "\n",
      "  added / updated specs:\n",
      "    - mlflow\n",
      "\n",
      "\n",
      "The following packages will be downloaded:\n",
      "\n",
      "    package                    |            build\n",
      "    ---------------------------|-----------------\n",
      "    aiohappyeyeballs-2.4.0     |     pyhd8ed1ab_0          17 KB  conda-forge\n",
      "    aiohttp-3.10.5             |  py311h9ecbd09_1         814 KB  conda-forge\n",
      "    aiosignal-1.3.1            |     pyhd8ed1ab_0          12 KB  conda-forge\n",
      "    aniso8601-9.0.1            |     pyhd8ed1ab_0          38 KB  conda-forge\n",
      "    bcrypt-4.2.0               |  py311h9e33e62_1         243 KB  conda-forge\n",
      "    cachetools-5.5.0           |     pyhd8ed1ab_0          14 KB  conda-forge\n",
      "    click-8.1.7                |unix_pyh707e725_0          82 KB  conda-forge\n",
      "    cloudpickle-3.0.0          |     pyhd8ed1ab_0          24 KB  conda-forge\n",
      "    databricks-sdk-0.32.3      |     pyhd8ed1ab_0         342 KB  conda-forge\n",
      "    deprecated-1.2.14          |     pyh1a96a4e_0          14 KB  conda-forge\n",
      "    docker-py-7.1.0            |     pyhd8ed1ab_0         102 KB  conda-forge\n",
      "    flask-3.0.3                |     pyhd8ed1ab_0          79 KB  conda-forge\n",
      "    frozenlist-1.4.1           |  py311h9ecbd09_1          59 KB  conda-forge\n",
      "    gitdb-4.0.11               |     pyhd8ed1ab_0          52 KB  conda-forge\n",
      "    gitpython-3.1.43           |     pyhd8ed1ab_0         153 KB  conda-forge\n",
      "    google-auth-2.35.0         |     pyhff2d567_0         113 KB  conda-forge\n",
      "    graphene-3.3               |     pyhd8ed1ab_0          58 KB  conda-forge\n",
      "    graphql-core-3.2.4         |     pyhd8ed1ab_0         351 KB  conda-forge\n",
      "    graphql-relay-3.2.0        |     pyhd8ed1ab_0          27 KB  conda-forge\n",
      "    gunicorn-22.0.0            |  py311h38be061_0         182 KB  conda-forge\n",
      "    itsdangerous-2.2.0         |     pyhd8ed1ab_0          19 KB  conda-forge\n",
      "    markdown-3.6               |     pyhd8ed1ab_0          76 KB  conda-forge\n",
      "    mlflow-2.16.2              |       h38be061_0          16 KB  conda-forge\n",
      "    mlflow-skinny-2.16.2       |  py311h38be061_0         5.6 MB  conda-forge\n",
      "    mlflow-ui-2.16.2           |  py311h38be061_0         4.2 MB  conda-forge\n",
      "    multidict-6.1.0            |  py311h9ecbd09_0          61 KB  conda-forge\n",
      "    opentelemetry-api-1.16.0   |     pyhd8ed1ab_0          39 KB  conda-forge\n",
      "    opentelemetry-sdk-1.16.0   |     pyhd8ed1ab_0          62 KB  conda-forge\n",
      "    opentelemetry-semantic-conventions-0.37b0|     pyhd8ed1ab_0          28 KB  conda-forge\n",
      "    paramiko-3.5.0             |     pyhd8ed1ab_0         157 KB  conda-forge\n",
      "    prometheus_flask_exporter-0.23.1|     pyhd8ed1ab_0          22 KB  conda-forge\n",
      "    protobuf-4.25.3            |  py311hbffca5d_1         390 KB  conda-forge\n",
      "    pyasn1-0.6.1               |     pyhd8ed1ab_1          61 KB  conda-forge\n",
      "    pyasn1-modules-0.4.1       |     pyhd8ed1ab_0          94 KB  conda-forge\n",
      "    pynacl-1.5.0               |  py311h9ecbd09_4         1.1 MB  conda-forge\n",
      "    pyopenssl-24.2.1           |     pyhd8ed1ab_2         125 KB  conda-forge\n",
      "    pyu2f-0.1.5                |     pyhd8ed1ab_0          31 KB  conda-forge\n",
      "    pywin32-on-windows-0.1.0   |     pyh1179c8e_3           5 KB  conda-forge\n",
      "    querystring_parser-1.2.4   |     pyhd8ed1ab_1          13 KB  conda-forge\n",
      "    rsa-4.9                    |     pyhd8ed1ab_0          29 KB  conda-forge\n",
      "    smmap-5.0.0                |     pyhd8ed1ab_0          22 KB  conda-forge\n",
      "    sqlparse-0.5.1             |     pyhd8ed1ab_0          39 KB  conda-forge\n",
      "    werkzeug-3.0.4             |     pyhd8ed1ab_0         237 KB  conda-forge\n",
      "    wrapt-1.16.0               |  py311h9ecbd09_1          62 KB  conda-forge\n",
      "    yarl-1.9.4                 |  py311h9ecbd09_1         119 KB  conda-forge\n",
      "    ------------------------------------------------------------\n",
      "                                           Total:        15.3 MB\n",
      "\n",
      "The following NEW packages will be INSTALLED:\n",
      "\n",
      "  aiohappyeyeballs   conda-forge/noarch::aiohappyeyeballs-2.4.0-pyhd8ed1ab_0 \n",
      "  aiohttp            conda-forge/linux-64::aiohttp-3.10.5-py311h9ecbd09_1 \n",
      "  aiosignal          conda-forge/noarch::aiosignal-1.3.1-pyhd8ed1ab_0 \n",
      "  aniso8601          conda-forge/noarch::aniso8601-9.0.1-pyhd8ed1ab_0 \n",
      "  bcrypt             conda-forge/linux-64::bcrypt-4.2.0-py311h9e33e62_1 \n",
      "  cachetools         conda-forge/noarch::cachetools-5.5.0-pyhd8ed1ab_0 \n",
      "  click              conda-forge/noarch::click-8.1.7-unix_pyh707e725_0 \n",
      "  cloudpickle        conda-forge/noarch::cloudpickle-3.0.0-pyhd8ed1ab_0 \n",
      "  databricks-sdk     conda-forge/noarch::databricks-sdk-0.32.3-pyhd8ed1ab_0 \n",
      "  deprecated         conda-forge/noarch::deprecated-1.2.14-pyh1a96a4e_0 \n",
      "  docker-py          conda-forge/noarch::docker-py-7.1.0-pyhd8ed1ab_0 \n",
      "  flask              conda-forge/noarch::flask-3.0.3-pyhd8ed1ab_0 \n",
      "  frozenlist         conda-forge/linux-64::frozenlist-1.4.1-py311h9ecbd09_1 \n",
      "  gitdb              conda-forge/noarch::gitdb-4.0.11-pyhd8ed1ab_0 \n",
      "  gitpython          conda-forge/noarch::gitpython-3.1.43-pyhd8ed1ab_0 \n",
      "  google-auth        conda-forge/noarch::google-auth-2.35.0-pyhff2d567_0 \n",
      "  graphene           conda-forge/noarch::graphene-3.3-pyhd8ed1ab_0 \n",
      "  graphql-core       conda-forge/noarch::graphql-core-3.2.4-pyhd8ed1ab_0 \n",
      "  graphql-relay      conda-forge/noarch::graphql-relay-3.2.0-pyhd8ed1ab_0 \n",
      "  gunicorn           conda-forge/linux-64::gunicorn-22.0.0-py311h38be061_0 \n",
      "  itsdangerous       conda-forge/noarch::itsdangerous-2.2.0-pyhd8ed1ab_0 \n",
      "  markdown           conda-forge/noarch::markdown-3.6-pyhd8ed1ab_0 \n",
      "  mlflow             conda-forge/linux-64::mlflow-2.16.2-h38be061_0 \n",
      "  mlflow-skinny      conda-forge/linux-64::mlflow-skinny-2.16.2-py311h38be061_0 \n",
      "  mlflow-ui          conda-forge/linux-64::mlflow-ui-2.16.2-py311h38be061_0 \n",
      "  multidict          conda-forge/linux-64::multidict-6.1.0-py311h9ecbd09_0 \n",
      "  opentelemetry-api  conda-forge/noarch::opentelemetry-api-1.16.0-pyhd8ed1ab_0 \n",
      "  opentelemetry-sdk  conda-forge/noarch::opentelemetry-sdk-1.16.0-pyhd8ed1ab_0 \n",
      "  opentelemetry-sem~ conda-forge/noarch::opentelemetry-semantic-conventions-0.37b0-pyhd8ed1ab_0 \n",
      "  paramiko           conda-forge/noarch::paramiko-3.5.0-pyhd8ed1ab_0 \n",
      "  prometheus_flask_~ conda-forge/noarch::prometheus_flask_exporter-0.23.1-pyhd8ed1ab_0 \n",
      "  protobuf           conda-forge/linux-64::protobuf-4.25.3-py311hbffca5d_1 \n",
      "  pyasn1             conda-forge/noarch::pyasn1-0.6.1-pyhd8ed1ab_1 \n",
      "  pyasn1-modules     conda-forge/noarch::pyasn1-modules-0.4.1-pyhd8ed1ab_0 \n",
      "  pynacl             conda-forge/linux-64::pynacl-1.5.0-py311h9ecbd09_4 \n",
      "  pyopenssl          conda-forge/noarch::pyopenssl-24.2.1-pyhd8ed1ab_2 \n",
      "  pyu2f              conda-forge/noarch::pyu2f-0.1.5-pyhd8ed1ab_0 \n",
      "  pywin32-on-windows conda-forge/noarch::pywin32-on-windows-0.1.0-pyh1179c8e_3 \n",
      "  querystring_parser conda-forge/noarch::querystring_parser-1.2.4-pyhd8ed1ab_1 \n",
      "  rsa                conda-forge/noarch::rsa-4.9-pyhd8ed1ab_0 \n",
      "  smmap              conda-forge/noarch::smmap-5.0.0-pyhd8ed1ab_0 \n",
      "  sqlparse           conda-forge/noarch::sqlparse-0.5.1-pyhd8ed1ab_0 \n",
      "  werkzeug           conda-forge/noarch::werkzeug-3.0.4-pyhd8ed1ab_0 \n",
      "  wrapt              conda-forge/linux-64::wrapt-1.16.0-py311h9ecbd09_1 \n",
      "  yarl               conda-forge/linux-64::yarl-1.9.4-py311h9ecbd09_1 \n",
      "\n",
      "\n",
      "Preparing transaction: ...working... done\n",
      "Verifying transaction: ...working... done\n",
      "Executing transaction: ...working... done\n"
     ]
    }
   ],
   "source": [
    "!conda install --quiet --yes mlflow"
   ]
  },
  {
   "cell_type": "markdown",
   "id": "85c5f89a-6335-43be-9d50-c201de28fade",
   "metadata": {},
   "source": [
    "What's the version that you have?"
   ]
  },
  {
   "cell_type": "code",
   "execution_count": 1,
   "id": "f7581e28-2247-4e45-a282-75eff3550d47",
   "metadata": {},
   "outputs": [
    {
     "name": "stdout",
     "output_type": "stream",
     "text": [
      "mlflow, version 2.16.2\n"
     ]
    }
   ],
   "source": [
    "!mlflow --version"
   ]
  },
  {
   "cell_type": "markdown",
   "id": "470c44f3-532b-4ba8-b54a-ca701fcabb86",
   "metadata": {},
   "source": [
    "## Q2. Download and preprocess the data\n",
    "\n",
    "We'll use the Green Taxi Trip Records dataset to predict the duration of each trip.\n",
    "\n",
    "Download the data for January, February and March 2023 in parquet format from [here](https://www1.nyc.gov/site/tlc/about/tlc-trip-record-data.page)."
   ]
  },
  {
   "cell_type": "code",
   "execution_count": 1,
   "id": "be8e3ee0-ea2e-4da1-be89-c1990f29071e",
   "metadata": {},
   "outputs": [
    {
     "name": "stdout",
     "output_type": "stream",
     "text": [
      "  % Total    % Received % Xferd  Average Speed   Time    Time     Time  Current\n",
      "                                 Dload  Upload   Total   Spent    Left  Speed\n",
      "100 1393k  100 1393k    0     0  3315k      0 --:--:-- --:--:-- --:--:-- 3310k\n",
      "  % Total    % Received % Xferd  Average Speed   Time    Time     Time  Current\n",
      "                                 Dload  Upload   Total   Spent    Left  Speed\n",
      "100 1497k  100 1497k    0     0  3791k      0 --:--:-- --:--:-- --:--:-- 3801k\n",
      "  % Total    % Received % Xferd  Average Speed   Time    Time     Time  Current\n",
      "                                 Dload  Upload   Total   Spent    Left  Speed\n",
      "100 1690k  100 1690k    0     0  3640k      0 --:--:-- --:--:-- --:--:-- 3635k\n"
     ]
    }
   ],
   "source": [
    "!mkdir -p data\n",
    "!curl https://d37ci6vzurychx.cloudfront.net/trip-data/green_tripdata_2023-01.parquet -o data/green_tripdata_2023-01.parquet\n",
    "!curl https://d37ci6vzurychx.cloudfront.net/trip-data/green_tripdata_2023-02.parquet -o data/green_tripdata_2023-02.parquet\n",
    "!curl https://d37ci6vzurychx.cloudfront.net/trip-data/green_tripdata_2023-03.parquet -o data/green_tripdata_2023-03.parquet"
   ]
  },
  {
   "cell_type": "markdown",
   "id": "7b7f0156-c253-40c9-9e7d-418299cf32a6",
   "metadata": {},
   "source": [
    "Use the script `preprocess_data.py` located in the folder homework to preprocess the data.\n",
    "\n",
    "The script will:\n",
    "\n",
    "- load the data from the folder <TAXI_DATA_FOLDER> (the folder where you have downloaded the data),\n",
    "- fit a DictVectorizer on the training set (January 2023 data),\n",
    "- save the preprocessed datasets and the DictVectorizer to disk.\n",
    "\n",
    "Your task is to download the datasets and then execute this command:\n",
    "\n",
    "```shell\n",
    "python preprocess_data.py --raw_data_path <TAXI_DATA_FOLDER> --dest_path ./\n",
    "```\n",
    "\n",
    "*Tip: go to homework folder before executing the command and change the value of <TAXI_DATA_FOLDER> to the location where you saved the data.*"
   ]
  },
  {
   "cell_type": "code",
   "execution_count": 2,
   "id": "d28914de-aff2-49b4-8b36-ab8c8b11205e",
   "metadata": {},
   "outputs": [],
   "source": [
    "!python preprocess_data.py --raw_data_path ./data --dest_path ./output"
   ]
  },
  {
   "cell_type": "markdown",
   "id": "2c194bd6-a48e-4103-abf8-578c138e8d2e",
   "metadata": {},
   "source": [
    "How many files were saved to `OUTPUT_FOLDER`?"
   ]
  },
  {
   "cell_type": "code",
   "execution_count": 3,
   "id": "3c2677a6-41a4-4693-9488-f8b99c2c7283",
   "metadata": {},
   "outputs": [
    {
     "name": "stdout",
     "output_type": "stream",
     "text": [
      "4\n"
     ]
    }
   ],
   "source": [
    "!ls ./output/ | wc -l"
   ]
  },
  {
   "cell_type": "markdown",
   "id": "42b4ff53-7d05-495b-9a3e-55e566686775",
   "metadata": {},
   "source": [
    "## Q3. Train a model with autolog\n",
    "\n",
    "We will train a `RandomForestRegressor` (from Scikit-Learn) on the taxi dataset.\n",
    "\n",
    "We have prepared the training script `train.py` for this exercise, which can be also found in the folder homework.\n",
    "\n",
    "The script will:\n",
    "\n",
    "- load the datasets produced by the previous step,\n",
    "- train the model on the training set,\n",
    "- calculate the RMSE score on the validation set.\n",
    "\n",
    "Your task is to modify the script to enable **autologging** with MLflow, execute the script and then launch the MLflow UI to check that the experiment run was properly tracked.\n",
    "\n",
    "*Tip 1: don't forget to wrap the training code with a with `mlflow.start_run()`: statement as we showed in the videos.*\n",
    "\n",
    "*Tip 2: don't modify the hyperparameters of the model to make sure that the training will finish quickly.*\n",
    "\n",
    "`mlflow ui --backend-store-uri=sqlite:///mlflow.db -h 0.0.0.0 -p 8080`"
   ]
  },
  {
   "cell_type": "code",
   "execution_count": 4,
   "id": "2e176d0d-4927-407f-bd83-e903db30a338",
   "metadata": {},
   "outputs": [
    {
     "name": "stdout",
     "output_type": "stream",
     "text": [
      "2024/09/30 13:46:28 INFO mlflow.tracking.fluent: Experiment with name 'mlops-course-week2' does not exist. Creating a new experiment.\n",
      "Run ID: 2e4ab843712b475586a10cf92c68c4b1\n",
      "/home/igor_lysak/miniconda3/envs/mlops/lib/python3.11/site-packages/sklearn/metrics/_regression.py:492: FutureWarning: 'squared' is deprecated in version 1.4 and will be removed in 1.6. To calculate the root mean squared error, use the function'root_mean_squared_error'.\n",
      "  warnings.warn(\n"
     ]
    }
   ],
   "source": [
    "!python train.py"
   ]
  },
  {
   "cell_type": "markdown",
   "id": "943c966c-5f52-4cb7-879f-d1efd423cb97",
   "metadata": {},
   "source": [
    "What is the value of the `min_samples_split` parameter:"
   ]
  },
  {
   "cell_type": "code",
   "execution_count": 5,
   "id": "110f5983-fff2-4791-9f23-628f89cd707d",
   "metadata": {},
   "outputs": [
    {
     "name": "stdout",
     "output_type": "stream",
     "text": [
      "2\n"
     ]
    }
   ],
   "source": [
    "import mlflow\n",
    "from mlflow.tracking import MlflowClient\n",
    "\n",
    "mlflow.set_tracking_uri(\"sqlite:///mlflow.db\")\n",
    "\n",
    "client = MlflowClient()\n",
    "experiment = client.get_experiment_by_name(\"mlops-course-week2\")\n",
    "best_run = client.search_runs(\n",
    "    experiment_ids=experiment.experiment_id,\n",
    "    order_by=[\"metrics.test_rmse ASC\"],\n",
    ")[0]\n",
    "print(f\"{best_run.data.params['min_samples_split']}\")"
   ]
  },
  {
   "cell_type": "markdown",
   "id": "4eabc58f-44a7-428e-ac6c-6b5db74ad6c2",
   "metadata": {},
   "source": [
    "## Q4. Launch the tracking server locally\n",
    "\n",
    "Now we want to manage the entire lifecycle of our ML model. In this step, you'll need to launch a tracking server. This way we will also have access to the model registry.\n",
    "\n",
    "Your task is to:\n",
    "\n",
    "- launch the tracking server on your local machine,\n",
    "- select a SQLite db for the backend store and a folder called artifacts for the artifacts store.\n",
    "- You should keep the tracking server running to work on the next two exercises that use the server.\n",
    "\n",
    "`mlflow server --backend-store-uri=sqlite:///mlflow.db --default-artifact-root ./artifacts -h 0.0.0.0 -p 8080`\n",
    "\n",
    "In addition to `backend-store-uri`, what else do you need to pass to properly configure the server?\n",
    "\n",
    "`default-artifact-root`"
   ]
  },
  {
   "cell_type": "markdown",
   "id": "fe5d019e-e360-4283-accf-7adbc293691c",
   "metadata": {},
   "source": [
    "## Q5. Tune model hyperparameters\n",
    "\n",
    "Now let's try to reduce the validation error by tuning the hyperparameters of the RandomForestRegressor using hyperopt. We have prepared the script hpo.py for this exercise.\n",
    "\n",
    "Your task is to modify the script `hpo.py` and make sure that the validation RMSE is logged to the tracking server for each run of the hyperparameter optimization (you will need to add a few lines of code to the `objective` function) and run the script without passing any parameters.\n",
    "\n",
    "After that, open UI and explore the runs from the experiment called random-forest-hyperopt to answer the question below.\n",
    "\n",
    "*Note: Don't use autologging for this exercise.*\n",
    "\n",
    "The idea is to just log the information that you need to answer the question below, including:\n",
    "\n",
    "- the list of hyperparameters that are passed to the objective function during the optimization,\n",
    "- the RMSE obtained on the validation set (February 2023 data)."
   ]
  },
  {
   "cell_type": "code",
   "execution_count": 6,
   "id": "45fa64a8-2b1d-404b-9f35-7d99d1ae47be",
   "metadata": {},
   "outputs": [
    {
     "name": "stdout",
     "output_type": "stream",
     "text": [
      "2024/09/30 13:47:10 INFO mlflow.tracking.fluent: Experiment with name 'random-forest-hyperopt' does not exist. Creating a new experiment.\n",
      "  0%|                                    | 0/15 [00:00<?, ?trial/s, best loss=?]/home/igor_lysak/miniconda3/envs/mlops/lib/python3.11/site-packages/sklearn/metrics/_regression.py:492: FutureWarning: 'squared' is deprecated in version 1.4 and will be removed in 1.6. To calculate the root mean squared error, use the function'root_mean_squared_error'.\n",
      "  warnings.warn(\n",
      "\n",
      "2024/09/30 13:47:20 INFO mlflow.tracking._tracking_service.client: 🏃 View run puzzled-stoat-524 at: http://localhost:8080/#/experiments/2/runs/6d4c68293a984d6c88099a7acb5d4903.\n",
      "\n",
      "2024/09/30 13:47:20 INFO mlflow.tracking._tracking_service.client: 🧪 View experiment at: http://localhost:8080/#/experiments/2.\n",
      "\n",
      "  7%|▋          | 1/15 [00:09<02:12,  9.46s/trial, best loss: 5.370086069268862]/home/igor_lysak/miniconda3/envs/mlops/lib/python3.11/site-packages/sklearn/metrics/_regression.py:492: FutureWarning: 'squared' is deprecated in version 1.4 and will be removed in 1.6. To calculate the root mean squared error, use the function'root_mean_squared_error'.\n",
      "  warnings.warn(\n",
      "\n",
      "2024/09/30 13:47:21 INFO mlflow.tracking._tracking_service.client: 🏃 View run respected-bat-537 at: http://localhost:8080/#/experiments/2/runs/d642dd73f08b4c51ba6794c4acaa5faa.\n",
      "\n",
      "2024/09/30 13:47:21 INFO mlflow.tracking._tracking_service.client: 🧪 View experiment at: http://localhost:8080/#/experiments/2.\n",
      "\n",
      " 13%|█▍         | 2/15 [00:09<00:54,  4.20s/trial, best loss: 5.370086069268862]/home/igor_lysak/miniconda3/envs/mlops/lib/python3.11/site-packages/sklearn/metrics/_regression.py:492: FutureWarning: 'squared' is deprecated in version 1.4 and will be removed in 1.6. To calculate the root mean squared error, use the function'root_mean_squared_error'.\n",
      "  warnings.warn(\n",
      "\n",
      "2024/09/30 13:47:22 INFO mlflow.tracking._tracking_service.client: 🏃 View run skittish-steed-770 at: http://localhost:8080/#/experiments/2/runs/3dd34b9adbfe442da77d410661f92f77.\n",
      "\n",
      "2024/09/30 13:47:22 INFO mlflow.tracking._tracking_service.client: 🧪 View experiment at: http://localhost:8080/#/experiments/2.\n",
      "\n",
      " 20%|██▏        | 3/15 [00:10<00:30,  2.58s/trial, best loss: 5.370086069268862]/home/igor_lysak/miniconda3/envs/mlops/lib/python3.11/site-packages/sklearn/metrics/_regression.py:492: FutureWarning: 'squared' is deprecated in version 1.4 and will be removed in 1.6. To calculate the root mean squared error, use the function'root_mean_squared_error'.\n",
      "  warnings.warn(\n",
      "\n",
      "2024/09/30 13:47:27 INFO mlflow.tracking._tracking_service.client: 🏃 View run likeable-goat-663 at: http://localhost:8080/#/experiments/2/runs/c03b5c0196144e329d42b4666304dbc7.\n",
      "\n",
      "2024/09/30 13:47:27 INFO mlflow.tracking._tracking_service.client: 🧪 View experiment at: http://localhost:8080/#/experiments/2.\n",
      "\n",
      " 27%|██▉        | 4/15 [00:16<00:41,  3.74s/trial, best loss: 5.357490752366866]/home/igor_lysak/miniconda3/envs/mlops/lib/python3.11/site-packages/sklearn/metrics/_regression.py:492: FutureWarning: 'squared' is deprecated in version 1.4 and will be removed in 1.6. To calculate the root mean squared error, use the function'root_mean_squared_error'.\n",
      "  warnings.warn(\n",
      "\n",
      "2024/09/30 13:47:30 INFO mlflow.tracking._tracking_service.client: 🏃 View run invincible-hawk-187 at: http://localhost:8080/#/experiments/2/runs/584ccd2028bb411097ad6d7dac4e83de.\n",
      "\n",
      "2024/09/30 13:47:30 INFO mlflow.tracking._tracking_service.client: 🧪 View experiment at: http://localhost:8080/#/experiments/2.\n",
      "\n",
      " 33%|███▋       | 5/15 [00:18<00:33,  3.36s/trial, best loss: 5.357490752366866]/home/igor_lysak/miniconda3/envs/mlops/lib/python3.11/site-packages/sklearn/metrics/_regression.py:492: FutureWarning: 'squared' is deprecated in version 1.4 and will be removed in 1.6. To calculate the root mean squared error, use the function'root_mean_squared_error'.\n",
      "  warnings.warn(\n",
      "\n",
      "2024/09/30 13:47:39 INFO mlflow.tracking._tracking_service.client: 🏃 View run sincere-moth-958 at: http://localhost:8080/#/experiments/2/runs/369ff189ee31411fa02ca2032f820603.\n",
      "\n",
      "2024/09/30 13:47:39 INFO mlflow.tracking._tracking_service.client: 🧪 View experiment at: http://localhost:8080/#/experiments/2.\n",
      "\n",
      " 40%|████▍      | 6/15 [00:28<00:49,  5.51s/trial, best loss: 5.354695072530291]/home/igor_lysak/miniconda3/envs/mlops/lib/python3.11/site-packages/sklearn/metrics/_regression.py:492: FutureWarning: 'squared' is deprecated in version 1.4 and will be removed in 1.6. To calculate the root mean squared error, use the function'root_mean_squared_error'.\n",
      "  warnings.warn(\n",
      "\n",
      "2024/09/30 13:47:49 INFO mlflow.tracking._tracking_service.client: 🏃 View run gaudy-ram-87 at: http://localhost:8080/#/experiments/2/runs/f29a196cffd344788369ef8908644463.\n",
      "\n",
      "2024/09/30 13:47:49 INFO mlflow.tracking._tracking_service.client: 🧪 View experiment at: http://localhost:8080/#/experiments/2.\n",
      "\n",
      " 47%|█████▏     | 7/15 [00:38<00:54,  6.84s/trial, best loss: 5.354695072530291]/home/igor_lysak/miniconda3/envs/mlops/lib/python3.11/site-packages/sklearn/metrics/_regression.py:492: FutureWarning: 'squared' is deprecated in version 1.4 and will be removed in 1.6. To calculate the root mean squared error, use the function'root_mean_squared_error'.\n",
      "  warnings.warn(\n",
      "\n",
      "2024/09/30 13:47:50 INFO mlflow.tracking._tracking_service.client: 🏃 View run unique-owl-118 at: http://localhost:8080/#/experiments/2/runs/63fac679d2eb4997bf1ed72f4dfaf315.\n",
      "\n",
      "2024/09/30 13:47:50 INFO mlflow.tracking._tracking_service.client: 🧪 View experiment at: http://localhost:8080/#/experiments/2.\n",
      "\n",
      " 53%|█████▊     | 8/15 [00:39<00:34,  4.99s/trial, best loss: 5.354695072530291]/home/igor_lysak/miniconda3/envs/mlops/lib/python3.11/site-packages/sklearn/metrics/_regression.py:492: FutureWarning: 'squared' is deprecated in version 1.4 and will be removed in 1.6. To calculate the root mean squared error, use the function'root_mean_squared_error'.\n",
      "  warnings.warn(\n",
      "\n",
      "2024/09/30 13:47:56 INFO mlflow.tracking._tracking_service.client: 🏃 View run shivering-yak-447 at: http://localhost:8080/#/experiments/2/runs/6153cbeb078b403bb00e66b2208e66fa.\n",
      "\n",
      "2024/09/30 13:47:56 INFO mlflow.tracking._tracking_service.client: 🧪 View experiment at: http://localhost:8080/#/experiments/2.\n",
      "\n",
      " 60%|██████▌    | 9/15 [00:45<00:31,  5.32s/trial, best loss: 5.354695072530291]/home/igor_lysak/miniconda3/envs/mlops/lib/python3.11/site-packages/sklearn/metrics/_regression.py:492: FutureWarning: 'squared' is deprecated in version 1.4 and will be removed in 1.6. To calculate the root mean squared error, use the function'root_mean_squared_error'.\n",
      "  warnings.warn(\n",
      "\n",
      "2024/09/30 13:48:02 INFO mlflow.tracking._tracking_service.client: 🏃 View run capricious-bug-739 at: http://localhost:8080/#/experiments/2/runs/be6edaaed3cd4cde80e163f012c66e23.\n",
      "\n",
      "2024/09/30 13:48:02 INFO mlflow.tracking._tracking_service.client: 🧪 View experiment at: http://localhost:8080/#/experiments/2.\n",
      "\n",
      " 67%|██████▋   | 10/15 [00:50<00:26,  5.39s/trial, best loss: 5.354695072530291]/home/igor_lysak/miniconda3/envs/mlops/lib/python3.11/site-packages/sklearn/metrics/_regression.py:492: FutureWarning: 'squared' is deprecated in version 1.4 and will be removed in 1.6. To calculate the root mean squared error, use the function'root_mean_squared_error'.\n",
      "  warnings.warn(\n",
      "\n",
      "2024/09/30 13:48:06 INFO mlflow.tracking._tracking_service.client: 🏃 View run luxuriant-goat-604 at: http://localhost:8080/#/experiments/2/runs/77fec8ab5b4447ee963a72eda6bacb14.\n",
      "\n",
      "2024/09/30 13:48:06 INFO mlflow.tracking._tracking_service.client: 🧪 View experiment at: http://localhost:8080/#/experiments/2.\n",
      "\n",
      " 73%|███████▎  | 11/15 [00:54<00:19,  4.96s/trial, best loss: 5.335419588556921]/home/igor_lysak/miniconda3/envs/mlops/lib/python3.11/site-packages/sklearn/metrics/_regression.py:492: FutureWarning: 'squared' is deprecated in version 1.4 and will be removed in 1.6. To calculate the root mean squared error, use the function'root_mean_squared_error'.\n",
      "  warnings.warn(\n",
      "\n",
      "2024/09/30 13:48:09 INFO mlflow.tracking._tracking_service.client: 🏃 View run valuable-carp-18 at: http://localhost:8080/#/experiments/2/runs/c62eb59a0bc842a888169b04281d5438.\n",
      "\n",
      "2024/09/30 13:48:09 INFO mlflow.tracking._tracking_service.client: 🧪 View experiment at: http://localhost:8080/#/experiments/2.\n",
      "\n",
      " 80%|████████  | 12/15 [00:57<00:13,  4.41s/trial, best loss: 5.335419588556921]/home/igor_lysak/miniconda3/envs/mlops/lib/python3.11/site-packages/sklearn/metrics/_regression.py:492: FutureWarning: 'squared' is deprecated in version 1.4 and will be removed in 1.6. To calculate the root mean squared error, use the function'root_mean_squared_error'.\n",
      "  warnings.warn(\n",
      "\n",
      "2024/09/30 13:48:10 INFO mlflow.tracking._tracking_service.client: 🏃 View run dazzling-gnat-630 at: http://localhost:8080/#/experiments/2/runs/0db2cb4d91064ba39da935ae09187486.\n",
      "\n",
      "2024/09/30 13:48:10 INFO mlflow.tracking._tracking_service.client: 🧪 View experiment at: http://localhost:8080/#/experiments/2.\n",
      "\n",
      " 87%|████████▋ | 13/15 [00:59<00:06,  3.48s/trial, best loss: 5.335419588556921]/home/igor_lysak/miniconda3/envs/mlops/lib/python3.11/site-packages/sklearn/metrics/_regression.py:492: FutureWarning: 'squared' is deprecated in version 1.4 and will be removed in 1.6. To calculate the root mean squared error, use the function'root_mean_squared_error'.\n",
      "  warnings.warn(\n",
      "\n",
      "2024/09/30 13:48:13 INFO mlflow.tracking._tracking_service.client: 🏃 View run aged-ray-834 at: http://localhost:8080/#/experiments/2/runs/8a467ee426634c7cae5db08ccb844f72.\n",
      "\n",
      "2024/09/30 13:48:13 INFO mlflow.tracking._tracking_service.client: 🧪 View experiment at: http://localhost:8080/#/experiments/2.\n",
      "\n",
      " 93%|█████████▎| 14/15 [01:02<00:03,  3.39s/trial, best loss: 5.335419588556921]/home/igor_lysak/miniconda3/envs/mlops/lib/python3.11/site-packages/sklearn/metrics/_regression.py:492: FutureWarning: 'squared' is deprecated in version 1.4 and will be removed in 1.6. To calculate the root mean squared error, use the function'root_mean_squared_error'.\n",
      "  warnings.warn(\n",
      "\n",
      "2024/09/30 13:48:19 INFO mlflow.tracking._tracking_service.client: 🏃 View run adorable-fowl-37 at: http://localhost:8080/#/experiments/2/runs/ff5e9df4b40e4d36a42ff779c02bcaf2.\n",
      "\n",
      "2024/09/30 13:48:19 INFO mlflow.tracking._tracking_service.client: 🧪 View experiment at: http://localhost:8080/#/experiments/2.\n",
      "\n",
      "100%|██████████| 15/15 [01:08<00:00,  4.53s/trial, best loss: 5.335419588556921]\n"
     ]
    }
   ],
   "source": [
    "!python hpo.py"
   ]
  },
  {
   "cell_type": "markdown",
   "id": "df58510b-7ce6-4a1d-968d-ad11d678a389",
   "metadata": {},
   "source": [
    "What's the best validation RMSE that you got?"
   ]
  },
  {
   "cell_type": "code",
   "execution_count": 7,
   "id": "6f4aa379",
   "metadata": {},
   "outputs": [
    {
     "name": "stdout",
     "output_type": "stream",
     "text": [
      "5.355\n"
     ]
    }
   ],
   "source": [
    "experiment = client.get_experiment_by_name(\"random-forest-hyperopt\")\n",
    "best_run = client.search_runs(\n",
    "    experiment_ids=experiment.experiment_id,\n",
    "    order_by=[\"metrics.test_rmse ASC\"],\n",
    ")[0]\n",
    "print(f\"{best_run.data.metrics['rmse']:0.3f}\")"
   ]
  },
  {
   "cell_type": "markdown",
   "id": "a9d5bd39-b93f-424d-a66e-eb42d43ed498",
   "metadata": {},
   "source": [
    "## Q6. Promote the best model to the model registry\n",
    "\n",
    "The results from the hyperparameter optimization are quite good. So, we can assume that we are ready to test some of these models in production. In this exercise, you'll promote the best model to the model registry. We have prepared a script called `register_model.py`, which will check the results from the previous step and select the top 5 runs. After that, it will calculate the RMSE of those models on the test set (March 2023 data) and save the results to a new experiment called `random-forest-best-models`.\n",
    "\n",
    "Your task is to update the script `register_model.py` so that it selects the model with the lowest RMSE on the test set and registers it to the model registry.\n",
    "\n",
    "*Tip 1: you can use the method `search_runs` from the `MlflowClient` to get the model with the lowest RMSE,*\n",
    "\n",
    "*Tip 2: to register the model you can use the method `mlflow.register_model` and you will need to pass the right model_uri in the form of a string that looks like this: `\"runs:/<RUN_ID>/model\"`, and the name of the model (make sure to choose a good one!).*"
   ]
  },
  {
   "cell_type": "code",
   "execution_count": 8,
   "id": "41f1d676-1561-4412-a61b-3dde8bbdac07",
   "metadata": {},
   "outputs": [
    {
     "name": "stdout",
     "output_type": "stream",
     "text": [
      "2024/09/30 13:49:07 INFO mlflow.tracking.fluent: Experiment with name 'random-forest-best-models' does not exist. Creating a new experiment.\n",
      "2024/09/30 13:49:08 WARNING mlflow.sklearn: Failed to log training dataset information to MLflow Tracking. Reason: 'numpy.ndarray' object has no attribute 'toarray'\n",
      "/home/igor_lysak/miniconda3/envs/mlops/lib/python3.11/site-packages/sklearn/metrics/_regression.py:492: FutureWarning: 'squared' is deprecated in version 1.4 and will be removed in 1.6. To calculate the root mean squared error, use the function'root_mean_squared_error'.\n",
      "  warnings.warn(\n",
      "/home/igor_lysak/miniconda3/envs/mlops/lib/python3.11/site-packages/sklearn/metrics/_regression.py:492: FutureWarning: 'squared' is deprecated in version 1.4 and will be removed in 1.6. To calculate the root mean squared error, use the function'root_mean_squared_error'.\n",
      "  warnings.warn(\n",
      "2024/09/30 13:49:17 INFO mlflow.tracking._tracking_service.client: 🏃 View run vaunted-squid-723 at: http://localhost:8080/#/experiments/3/runs/214432baa23149338066bd4ab407de2d.\n",
      "2024/09/30 13:49:17 INFO mlflow.tracking._tracking_service.client: 🧪 View experiment at: http://localhost:8080/#/experiments/3.\n",
      "2024/09/30 13:49:18 WARNING mlflow.sklearn: Failed to log training dataset information to MLflow Tracking. Reason: 'numpy.ndarray' object has no attribute 'toarray'\n",
      "/home/igor_lysak/miniconda3/envs/mlops/lib/python3.11/site-packages/sklearn/metrics/_regression.py:492: FutureWarning: 'squared' is deprecated in version 1.4 and will be removed in 1.6. To calculate the root mean squared error, use the function'root_mean_squared_error'.\n",
      "  warnings.warn(\n",
      "/home/igor_lysak/miniconda3/envs/mlops/lib/python3.11/site-packages/sklearn/metrics/_regression.py:492: FutureWarning: 'squared' is deprecated in version 1.4 and will be removed in 1.6. To calculate the root mean squared error, use the function'root_mean_squared_error'.\n",
      "  warnings.warn(\n",
      "2024/09/30 13:49:37 INFO mlflow.tracking._tracking_service.client: 🏃 View run gifted-frog-576 at: http://localhost:8080/#/experiments/3/runs/388cee33c1f04df885df4ea4321bd762.\n",
      "2024/09/30 13:49:37 INFO mlflow.tracking._tracking_service.client: 🧪 View experiment at: http://localhost:8080/#/experiments/3.\n",
      "2024/09/30 13:49:38 WARNING mlflow.sklearn: Failed to log training dataset information to MLflow Tracking. Reason: 'numpy.ndarray' object has no attribute 'toarray'\n",
      "/home/igor_lysak/miniconda3/envs/mlops/lib/python3.11/site-packages/sklearn/metrics/_regression.py:492: FutureWarning: 'squared' is deprecated in version 1.4 and will be removed in 1.6. To calculate the root mean squared error, use the function'root_mean_squared_error'.\n",
      "  warnings.warn(\n",
      "/home/igor_lysak/miniconda3/envs/mlops/lib/python3.11/site-packages/sklearn/metrics/_regression.py:492: FutureWarning: 'squared' is deprecated in version 1.4 and will be removed in 1.6. To calculate the root mean squared error, use the function'root_mean_squared_error'.\n",
      "  warnings.warn(\n",
      "2024/09/30 13:49:53 INFO mlflow.tracking._tracking_service.client: 🏃 View run suave-eel-703 at: http://localhost:8080/#/experiments/3/runs/55589fd8306e4aabbf1930717c666190.\n",
      "2024/09/30 13:49:53 INFO mlflow.tracking._tracking_service.client: 🧪 View experiment at: http://localhost:8080/#/experiments/3.\n",
      "2024/09/30 13:49:53 WARNING mlflow.sklearn: Failed to log training dataset information to MLflow Tracking. Reason: 'numpy.ndarray' object has no attribute 'toarray'\n",
      "/home/igor_lysak/miniconda3/envs/mlops/lib/python3.11/site-packages/sklearn/metrics/_regression.py:492: FutureWarning: 'squared' is deprecated in version 1.4 and will be removed in 1.6. To calculate the root mean squared error, use the function'root_mean_squared_error'.\n",
      "  warnings.warn(\n",
      "/home/igor_lysak/miniconda3/envs/mlops/lib/python3.11/site-packages/sklearn/metrics/_regression.py:492: FutureWarning: 'squared' is deprecated in version 1.4 and will be removed in 1.6. To calculate the root mean squared error, use the function'root_mean_squared_error'.\n",
      "  warnings.warn(\n",
      "2024/09/30 13:50:07 INFO mlflow.tracking._tracking_service.client: 🏃 View run suave-cod-263 at: http://localhost:8080/#/experiments/3/runs/471a6403eba14561b296a7f6154d2b3e.\n",
      "2024/09/30 13:50:07 INFO mlflow.tracking._tracking_service.client: 🧪 View experiment at: http://localhost:8080/#/experiments/3.\n",
      "2024/09/30 13:50:08 WARNING mlflow.sklearn: Failed to log training dataset information to MLflow Tracking. Reason: 'numpy.ndarray' object has no attribute 'toarray'\n",
      "/home/igor_lysak/miniconda3/envs/mlops/lib/python3.11/site-packages/sklearn/metrics/_regression.py:492: FutureWarning: 'squared' is deprecated in version 1.4 and will be removed in 1.6. To calculate the root mean squared error, use the function'root_mean_squared_error'.\n",
      "  warnings.warn(\n",
      "/home/igor_lysak/miniconda3/envs/mlops/lib/python3.11/site-packages/sklearn/metrics/_regression.py:492: FutureWarning: 'squared' is deprecated in version 1.4 and will be removed in 1.6. To calculate the root mean squared error, use the function'root_mean_squared_error'.\n",
      "  warnings.warn(\n",
      "2024/09/30 13:50:20 INFO mlflow.tracking._tracking_service.client: 🏃 View run luxuriant-goose-548 at: http://localhost:8080/#/experiments/3/runs/8962d730563a43cab48bc8b30437b243.\n",
      "2024/09/30 13:50:20 INFO mlflow.tracking._tracking_service.client: 🧪 View experiment at: http://localhost:8080/#/experiments/3.\n",
      "Successfully registered model 'best_random_forest_regressor'.\n",
      "2024/09/30 13:50:20 INFO mlflow.store.model_registry.abstract_store: Waiting up to 300 seconds for model version to finish creation. Model name: best_random_forest_regressor, version 1\n",
      "Created version '1' of model 'best_random_forest_regressor'.\n"
     ]
    }
   ],
   "source": [
    "!python register_model.py"
   ]
  },
  {
   "cell_type": "markdown",
   "id": "2ca88096-74d0-4114-832b-0805e0265ebd",
   "metadata": {},
   "source": [
    "What is the test RMSE of the best model?"
   ]
  },
  {
   "cell_type": "code",
   "execution_count": 9,
   "id": "ab9bdaeb",
   "metadata": {},
   "outputs": [
    {
     "name": "stdout",
     "output_type": "stream",
     "text": [
      "5.567\n"
     ]
    }
   ],
   "source": [
    "experiment = client.get_experiment_by_name(\"random-forest-best-models\")\n",
    "best_run = client.search_runs(\n",
    "    experiment_ids=experiment.experiment_id,\n",
    "    order_by=[\"metrics.test_rmse ASC\"],\n",
    ")[0]\n",
    "print(f\"{best_run.data.metrics['test_rmse']:0.3f}\")"
   ]
  },
  {
   "cell_type": "markdown",
   "id": "b3eee6cb-e976-4dd8-ac43-eb6235bc0231",
   "metadata": {},
   "source": [
    "## Summary\n",
    "\n",
    "### Q1. Install MLflow\n",
    "\n",
    "`mlflow, version 2.16.2`\n",
    "\n",
    "### Q2. Download and preprocess the data\n",
    "\n",
    "4\n",
    "\n",
    "### Q3. Train a model with autolog\n",
    "\n",
    "2\n",
    "\n",
    "### Q4. Launch the tracking server locally\n",
    "\n",
    "`default-artifact-root`\n",
    "\n",
    "### Q5. Tune model hyperparameters\n",
    "\n",
    "5.335\n",
    "\n",
    "### Q6. Promote the best model to the model registry\n",
    "\n",
    "5.567\n"
   ]
  }
 ],
 "metadata": {
  "kernelspec": {
   "display_name": "Python 3 (ipykernel)",
   "language": "python",
   "name": "python3"
  },
  "language_info": {
   "codemirror_mode": {
    "name": "ipython",
    "version": 3
   },
   "file_extension": ".py",
   "mimetype": "text/x-python",
   "name": "python",
   "nbconvert_exporter": "python",
   "pygments_lexer": "ipython3",
   "version": "3.11.10"
  }
 },
 "nbformat": 4,
 "nbformat_minor": 5
}
